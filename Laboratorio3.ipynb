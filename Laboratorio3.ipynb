{
 "cells": [
  {
   "cell_type": "code",
   "execution_count": 40,
   "metadata": {},
   "outputs": [
    {
     "data": {
      "text/plain": [
       "['E\\t1\\t1999-02-28\\tb,g,f\\tjjj:3,bbb:0,ddd:9,ggg:8,hhh:2\\n',\n",
       " 'A\\t2\\t1999-10-28\\ta,f,c\\tccc:2,ddd:0,aaa:3,hhh:9\\n',\n",
       " 'B\\t5\\t1998-05-02\\tf,e,a,c\\tddd:2,ggg:5,ccc:6,jjj:1\\n',\n",
       " 'A\\t3\\t1999-08-28\\ta,b\\thhh:9,iii:5,eee:7,bbb:1\\n',\n",
       " 'C\\t6\\t1999-12-01\\tf,g,d,a\\tiii:6,ddd:5,eee:4,jjj:3\\n',\n",
       " 'A\\t7\\t1998-07-28\\tc,d\\tbbb:2,hhh:0,ccc:4,fff:1,aaa:7\\n',\n",
       " 'A\\t9\\t1997-02-28\\tg,d,a\\taaa:5,fff:8,ddd:2,iii:0,jjj:7,ccc:1\\n',\n",
       " 'B\\t1\\t1999-05-10\\tb,a\\tfff:3,hhh:1,ddd:2\\n',\n",
       " 'E\\t2\\t1997-04-12\\td,e,a,f\\teee:4,ccc:5,iii:9,fff:7,ggg:6,bbb:0\\n',\n",
       " 'B\\t3\\t1999-11-23\\td,b,g,f\\tbbb:7,jjj:9,fff:5,iii:4,ggg:2,eee:3\\n',\n",
       " 'C\\t7\\t1998-01-17\\td,c,f,b\\thhh:6,eee:4,iii:0,fff:2,jjj:1\\n',\n",
       " 'C\\t5\\t1998-12-28\\td,e,a,c\\tbbb:7,iii:6,ggg:9\\n',\n",
       " 'D\\t3\\t1999-10-15\\tg,e,f,b\\tbbb:9,aaa:3,ccc:6,fff:4,eee:2\\n',\n",
       " 'E\\t8\\t1998-11-01\\tc,f\\taaa:8,ddd:5,jjj:1\\n',\n",
       " 'B\\t9\\t1999-08-12\\td,b\\tccc:0,jjj:6,fff:7,ddd:3,aaa:2\\n',\n",
       " 'D\\t1\\t1997-12-01\\tf,e\\tccc:0,eee:6,bbb:9,ddd:3\\n',\n",
       " 'E\\t3\\t1997-07-28\\te,b,f\\tbbb:6,iii:3,hhh:5,fff:4,ggg:9,ddd:2\\n',\n",
       " 'D\\t5\\t1998-08-12\\tg,a\\thhh:4,jjj:5,ccc:9\\n',\n",
       " 'E\\t8\\t1999-08-24\\te,c,f,a\\tccc:1,iii:6,fff:9\\n',\n",
       " 'E\\t9\\t1998-01-23\\te,a\\tbbb:9,aaa:3,fff:1\\n',\n",
       " 'E\\t7\\t1999-06-22\\te,f\\tddd:9,iii:2,aaa:4\\n',\n",
       " 'E\\t3\\t1999-04-24\\tc,b,g\\tccc:5,fff:8,iii:7\\n',\n",
       " 'D\\t5\\t1999-06-25\\tc,f,a\\teee:3,jjj:2,ddd:7\\n',\n",
       " 'A\\t1\\t1999-08-25\\tf,a,d\\tjjj:1,ggg:0,ccc:7,ddd:9,bbb:3\\n',\n",
       " 'E\\t4\\t1997-07-26\\tc,d\\tjjj:6,ccc:0,aaa:1,hhh:9,iii:7,ggg:8\\n',\n",
       " 'E\\t6\\t1997-09-24\\te,d,c\\tfff:3,eee:6,iii:4,bbb:7,ddd:0,ccc:1\\n',\n",
       " 'A\\t8\\t1997-09-28\\ta,e,f\\tfff:0,ddd:5,ccc:4\\n',\n",
       " 'E\\t5\\t1999-06-22\\tc,a,g\\tggg:6,hhh:3,ddd:9,ccc:0,jjj:7\\n',\n",
       " 'A\\t6\\t1999-07-29\\tf,e\\thhh:6,jjj:0,eee:5,iii:7,ccc:3\\n',\n",
       " 'C\\t0\\t1999-08-22\\tf,c,a,g\\teee:1,fff:4,aaa:2,ccc:7,ggg:0,ddd:6\\n',\n",
       " 'A\\t1\\t1998-04-26\\tb,f\\tccc:6,aaa:9,eee:5,ddd:0,bbb:3\\n',\n",
       " 'D\\t2\\t1998-02-24\\tb,f\\tbbb:7,hhh:1,aaa:6,iii:4,fff:9,ddd:5\\n',\n",
       " 'E\\t5\\t1999-03-24\\ta,c\\tfff:3,ccc:1,ggg:2,eee:5\\n',\n",
       " 'B\\t4\\t1998-03-23\\tb,f,c\\tiii:7,ggg:3,ddd:0,jjj:8,hhh:5,ccc:1\\n',\n",
       " 'B\\t6\\t1999-04-21\\tf,a,e\\thhh:6,ccc:3,jjj:0,bbb:8,ddd:7\\n',\n",
       " 'D\\t7\\t1999-02-29\\ta,f\\taaa:0,fff:5,ddd:3\\n',\n",
       " 'B\\t8\\t1997-05-21\\tc,a\\tddd:5,jjj:2,iii:7,ccc:0,bbb:4\\n',\n",
       " 'C\\t9\\t1997-07-22\\tc,a,e,f\\teee:0,fff:2,hhh:6\\n',\n",
       " 'E\\t1\\t1999-09-28\\te,d\\tfff:9,iii:2,eee:0\\n',\n",
       " 'E\\t5\\t1998-01-26\\tf,a,d\\thhh:8,ggg:3,jjj:5\\n']"
      ]
     },
     "execution_count": 40,
     "metadata": {},
     "output_type": "execute_result"
    }
   ],
   "source": [
    "file = open('data.csv', 'r').readlines()\n",
    "file"
   ]
  },
  {
   "cell_type": "code",
   "execution_count": 41,
   "metadata": {},
   "outputs": [
    {
     "data": {
      "text/plain": [
       "['E\\t1\\t1999-02-28\\tb,g,f\\tjjj:3,bbb:0,ddd:9,ggg:8,hhh:2',\n",
       " 'A\\t2\\t1999-10-28\\ta,f,c\\tccc:2,ddd:0,aaa:3,hhh:9',\n",
       " 'B\\t5\\t1998-05-02\\tf,e,a,c\\tddd:2,ggg:5,ccc:6,jjj:1',\n",
       " 'A\\t3\\t1999-08-28\\ta,b\\thhh:9,iii:5,eee:7,bbb:1',\n",
       " 'C\\t6\\t1999-12-01\\tf,g,d,a\\tiii:6,ddd:5,eee:4,jjj:3',\n",
       " 'A\\t7\\t1998-07-28\\tc,d\\tbbb:2,hhh:0,ccc:4,fff:1,aaa:7',\n",
       " 'A\\t9\\t1997-02-28\\tg,d,a\\taaa:5,fff:8,ddd:2,iii:0,jjj:7,ccc:1',\n",
       " 'B\\t1\\t1999-05-10\\tb,a\\tfff:3,hhh:1,ddd:2',\n",
       " 'E\\t2\\t1997-04-12\\td,e,a,f\\teee:4,ccc:5,iii:9,fff:7,ggg:6,bbb:0',\n",
       " 'B\\t3\\t1999-11-23\\td,b,g,f\\tbbb:7,jjj:9,fff:5,iii:4,ggg:2,eee:3',\n",
       " 'C\\t7\\t1998-01-17\\td,c,f,b\\thhh:6,eee:4,iii:0,fff:2,jjj:1',\n",
       " 'C\\t5\\t1998-12-28\\td,e,a,c\\tbbb:7,iii:6,ggg:9',\n",
       " 'D\\t3\\t1999-10-15\\tg,e,f,b\\tbbb:9,aaa:3,ccc:6,fff:4,eee:2',\n",
       " 'E\\t8\\t1998-11-01\\tc,f\\taaa:8,ddd:5,jjj:1',\n",
       " 'B\\t9\\t1999-08-12\\td,b\\tccc:0,jjj:6,fff:7,ddd:3,aaa:2',\n",
       " 'D\\t1\\t1997-12-01\\tf,e\\tccc:0,eee:6,bbb:9,ddd:3',\n",
       " 'E\\t3\\t1997-07-28\\te,b,f\\tbbb:6,iii:3,hhh:5,fff:4,ggg:9,ddd:2',\n",
       " 'D\\t5\\t1998-08-12\\tg,a\\thhh:4,jjj:5,ccc:9',\n",
       " 'E\\t8\\t1999-08-24\\te,c,f,a\\tccc:1,iii:6,fff:9',\n",
       " 'E\\t9\\t1998-01-23\\te,a\\tbbb:9,aaa:3,fff:1',\n",
       " 'E\\t7\\t1999-06-22\\te,f\\tddd:9,iii:2,aaa:4',\n",
       " 'E\\t3\\t1999-04-24\\tc,b,g\\tccc:5,fff:8,iii:7',\n",
       " 'D\\t5\\t1999-06-25\\tc,f,a\\teee:3,jjj:2,ddd:7',\n",
       " 'A\\t1\\t1999-08-25\\tf,a,d\\tjjj:1,ggg:0,ccc:7,ddd:9,bbb:3',\n",
       " 'E\\t4\\t1997-07-26\\tc,d\\tjjj:6,ccc:0,aaa:1,hhh:9,iii:7,ggg:8',\n",
       " 'E\\t6\\t1997-09-24\\te,d,c\\tfff:3,eee:6,iii:4,bbb:7,ddd:0,ccc:1',\n",
       " 'A\\t8\\t1997-09-28\\ta,e,f\\tfff:0,ddd:5,ccc:4',\n",
       " 'E\\t5\\t1999-06-22\\tc,a,g\\tggg:6,hhh:3,ddd:9,ccc:0,jjj:7',\n",
       " 'A\\t6\\t1999-07-29\\tf,e\\thhh:6,jjj:0,eee:5,iii:7,ccc:3',\n",
       " 'C\\t0\\t1999-08-22\\tf,c,a,g\\teee:1,fff:4,aaa:2,ccc:7,ggg:0,ddd:6',\n",
       " 'A\\t1\\t1998-04-26\\tb,f\\tccc:6,aaa:9,eee:5,ddd:0,bbb:3',\n",
       " 'D\\t2\\t1998-02-24\\tb,f\\tbbb:7,hhh:1,aaa:6,iii:4,fff:9,ddd:5',\n",
       " 'E\\t5\\t1999-03-24\\ta,c\\tfff:3,ccc:1,ggg:2,eee:5',\n",
       " 'B\\t4\\t1998-03-23\\tb,f,c\\tiii:7,ggg:3,ddd:0,jjj:8,hhh:5,ccc:1',\n",
       " 'B\\t6\\t1999-04-21\\tf,a,e\\thhh:6,ccc:3,jjj:0,bbb:8,ddd:7',\n",
       " 'D\\t7\\t1999-02-29\\ta,f\\taaa:0,fff:5,ddd:3',\n",
       " 'B\\t8\\t1997-05-21\\tc,a\\tddd:5,jjj:2,iii:7,ccc:0,bbb:4',\n",
       " 'C\\t9\\t1997-07-22\\tc,a,e,f\\teee:0,fff:2,hhh:6',\n",
       " 'E\\t1\\t1999-09-28\\te,d\\tfff:9,iii:2,eee:0',\n",
       " 'E\\t5\\t1998-01-26\\tf,a,d\\thhh:8,ggg:3,jjj:5']"
      ]
     },
     "execution_count": 41,
     "metadata": {},
     "output_type": "execute_result"
    }
   ],
   "source": [
    "file = [row[0:-1] for row in file]\n",
    "file"
   ]
  },
  {
   "cell_type": "code",
   "execution_count": 42,
   "metadata": {},
   "outputs": [
    {
     "data": {
      "text/plain": [
       "[['E', '1', '1999-02-28', 'b,g,f', 'jjj:3,bbb:0,ddd:9,ggg:8,hhh:2'],\n",
       " ['A', '2', '1999-10-28', 'a,f,c', 'ccc:2,ddd:0,aaa:3,hhh:9'],\n",
       " ['B', '5', '1998-05-02', 'f,e,a,c', 'ddd:2,ggg:5,ccc:6,jjj:1'],\n",
       " ['A', '3', '1999-08-28', 'a,b', 'hhh:9,iii:5,eee:7,bbb:1'],\n",
       " ['C', '6', '1999-12-01', 'f,g,d,a', 'iii:6,ddd:5,eee:4,jjj:3'],\n",
       " ['A', '7', '1998-07-28', 'c,d', 'bbb:2,hhh:0,ccc:4,fff:1,aaa:7'],\n",
       " ['A', '9', '1997-02-28', 'g,d,a', 'aaa:5,fff:8,ddd:2,iii:0,jjj:7,ccc:1'],\n",
       " ['B', '1', '1999-05-10', 'b,a', 'fff:3,hhh:1,ddd:2'],\n",
       " ['E', '2', '1997-04-12', 'd,e,a,f', 'eee:4,ccc:5,iii:9,fff:7,ggg:6,bbb:0'],\n",
       " ['B', '3', '1999-11-23', 'd,b,g,f', 'bbb:7,jjj:9,fff:5,iii:4,ggg:2,eee:3'],\n",
       " ['C', '7', '1998-01-17', 'd,c,f,b', 'hhh:6,eee:4,iii:0,fff:2,jjj:1'],\n",
       " ['C', '5', '1998-12-28', 'd,e,a,c', 'bbb:7,iii:6,ggg:9'],\n",
       " ['D', '3', '1999-10-15', 'g,e,f,b', 'bbb:9,aaa:3,ccc:6,fff:4,eee:2'],\n",
       " ['E', '8', '1998-11-01', 'c,f', 'aaa:8,ddd:5,jjj:1'],\n",
       " ['B', '9', '1999-08-12', 'd,b', 'ccc:0,jjj:6,fff:7,ddd:3,aaa:2'],\n",
       " ['D', '1', '1997-12-01', 'f,e', 'ccc:0,eee:6,bbb:9,ddd:3'],\n",
       " ['E', '3', '1997-07-28', 'e,b,f', 'bbb:6,iii:3,hhh:5,fff:4,ggg:9,ddd:2'],\n",
       " ['D', '5', '1998-08-12', 'g,a', 'hhh:4,jjj:5,ccc:9'],\n",
       " ['E', '8', '1999-08-24', 'e,c,f,a', 'ccc:1,iii:6,fff:9'],\n",
       " ['E', '9', '1998-01-23', 'e,a', 'bbb:9,aaa:3,fff:1'],\n",
       " ['E', '7', '1999-06-22', 'e,f', 'ddd:9,iii:2,aaa:4'],\n",
       " ['E', '3', '1999-04-24', 'c,b,g', 'ccc:5,fff:8,iii:7'],\n",
       " ['D', '5', '1999-06-25', 'c,f,a', 'eee:3,jjj:2,ddd:7'],\n",
       " ['A', '1', '1999-08-25', 'f,a,d', 'jjj:1,ggg:0,ccc:7,ddd:9,bbb:3'],\n",
       " ['E', '4', '1997-07-26', 'c,d', 'jjj:6,ccc:0,aaa:1,hhh:9,iii:7,ggg:8'],\n",
       " ['E', '6', '1997-09-24', 'e,d,c', 'fff:3,eee:6,iii:4,bbb:7,ddd:0,ccc:1'],\n",
       " ['A', '8', '1997-09-28', 'a,e,f', 'fff:0,ddd:5,ccc:4'],\n",
       " ['E', '5', '1999-06-22', 'c,a,g', 'ggg:6,hhh:3,ddd:9,ccc:0,jjj:7'],\n",
       " ['A', '6', '1999-07-29', 'f,e', 'hhh:6,jjj:0,eee:5,iii:7,ccc:3'],\n",
       " ['C', '0', '1999-08-22', 'f,c,a,g', 'eee:1,fff:4,aaa:2,ccc:7,ggg:0,ddd:6'],\n",
       " ['A', '1', '1998-04-26', 'b,f', 'ccc:6,aaa:9,eee:5,ddd:0,bbb:3'],\n",
       " ['D', '2', '1998-02-24', 'b,f', 'bbb:7,hhh:1,aaa:6,iii:4,fff:9,ddd:5'],\n",
       " ['E', '5', '1999-03-24', 'a,c', 'fff:3,ccc:1,ggg:2,eee:5'],\n",
       " ['B', '4', '1998-03-23', 'b,f,c', 'iii:7,ggg:3,ddd:0,jjj:8,hhh:5,ccc:1'],\n",
       " ['B', '6', '1999-04-21', 'f,a,e', 'hhh:6,ccc:3,jjj:0,bbb:8,ddd:7'],\n",
       " ['D', '7', '1999-02-29', 'a,f', 'aaa:0,fff:5,ddd:3'],\n",
       " ['B', '8', '1997-05-21', 'c,a', 'ddd:5,jjj:2,iii:7,ccc:0,bbb:4'],\n",
       " ['C', '9', '1997-07-22', 'c,a,e,f', 'eee:0,fff:2,hhh:6'],\n",
       " ['E', '1', '1999-09-28', 'e,d', 'fff:9,iii:2,eee:0'],\n",
       " ['E', '5', '1998-01-26', 'f,a,d', 'hhh:8,ggg:3,jjj:5']]"
      ]
     },
     "execution_count": 42,
     "metadata": {},
     "output_type": "execute_result"
    }
   ],
   "source": [
    "file = [row.split('\\t') for row in file]\n",
    "file"
   ]
  },
  {
   "cell_type": "code",
   "execution_count": 43,
   "metadata": {},
   "outputs": [
    {
     "data": {
      "text/plain": [
       "[['E',\n",
       "  '1',\n",
       "  '1999-02-28',\n",
       "  ['b', 'g', 'f'],\n",
       "  ['jjj:3', 'bbb:0', 'ddd:9', 'ggg:8', 'hhh:2']],\n",
       " ['A',\n",
       "  '2',\n",
       "  '1999-10-28',\n",
       "  ['a', 'f', 'c'],\n",
       "  ['ccc:2', 'ddd:0', 'aaa:3', 'hhh:9']],\n",
       " ['B',\n",
       "  '5',\n",
       "  '1998-05-02',\n",
       "  ['f', 'e', 'a', 'c'],\n",
       "  ['ddd:2', 'ggg:5', 'ccc:6', 'jjj:1']],\n",
       " ['A', '3', '1999-08-28', ['a', 'b'], ['hhh:9', 'iii:5', 'eee:7', 'bbb:1']],\n",
       " ['C',\n",
       "  '6',\n",
       "  '1999-12-01',\n",
       "  ['f', 'g', 'd', 'a'],\n",
       "  ['iii:6', 'ddd:5', 'eee:4', 'jjj:3']],\n",
       " ['A',\n",
       "  '7',\n",
       "  '1998-07-28',\n",
       "  ['c', 'd'],\n",
       "  ['bbb:2', 'hhh:0', 'ccc:4', 'fff:1', 'aaa:7']],\n",
       " ['A',\n",
       "  '9',\n",
       "  '1997-02-28',\n",
       "  ['g', 'd', 'a'],\n",
       "  ['aaa:5', 'fff:8', 'ddd:2', 'iii:0', 'jjj:7', 'ccc:1']],\n",
       " ['B', '1', '1999-05-10', ['b', 'a'], ['fff:3', 'hhh:1', 'ddd:2']],\n",
       " ['E',\n",
       "  '2',\n",
       "  '1997-04-12',\n",
       "  ['d', 'e', 'a', 'f'],\n",
       "  ['eee:4', 'ccc:5', 'iii:9', 'fff:7', 'ggg:6', 'bbb:0']],\n",
       " ['B',\n",
       "  '3',\n",
       "  '1999-11-23',\n",
       "  ['d', 'b', 'g', 'f'],\n",
       "  ['bbb:7', 'jjj:9', 'fff:5', 'iii:4', 'ggg:2', 'eee:3']],\n",
       " ['C',\n",
       "  '7',\n",
       "  '1998-01-17',\n",
       "  ['d', 'c', 'f', 'b'],\n",
       "  ['hhh:6', 'eee:4', 'iii:0', 'fff:2', 'jjj:1']],\n",
       " ['C', '5', '1998-12-28', ['d', 'e', 'a', 'c'], ['bbb:7', 'iii:6', 'ggg:9']],\n",
       " ['D',\n",
       "  '3',\n",
       "  '1999-10-15',\n",
       "  ['g', 'e', 'f', 'b'],\n",
       "  ['bbb:9', 'aaa:3', 'ccc:6', 'fff:4', 'eee:2']],\n",
       " ['E', '8', '1998-11-01', ['c', 'f'], ['aaa:8', 'ddd:5', 'jjj:1']],\n",
       " ['B',\n",
       "  '9',\n",
       "  '1999-08-12',\n",
       "  ['d', 'b'],\n",
       "  ['ccc:0', 'jjj:6', 'fff:7', 'ddd:3', 'aaa:2']],\n",
       " ['D', '1', '1997-12-01', ['f', 'e'], ['ccc:0', 'eee:6', 'bbb:9', 'ddd:3']],\n",
       " ['E',\n",
       "  '3',\n",
       "  '1997-07-28',\n",
       "  ['e', 'b', 'f'],\n",
       "  ['bbb:6', 'iii:3', 'hhh:5', 'fff:4', 'ggg:9', 'ddd:2']],\n",
       " ['D', '5', '1998-08-12', ['g', 'a'], ['hhh:4', 'jjj:5', 'ccc:9']],\n",
       " ['E', '8', '1999-08-24', ['e', 'c', 'f', 'a'], ['ccc:1', 'iii:6', 'fff:9']],\n",
       " ['E', '9', '1998-01-23', ['e', 'a'], ['bbb:9', 'aaa:3', 'fff:1']],\n",
       " ['E', '7', '1999-06-22', ['e', 'f'], ['ddd:9', 'iii:2', 'aaa:4']],\n",
       " ['E', '3', '1999-04-24', ['c', 'b', 'g'], ['ccc:5', 'fff:8', 'iii:7']],\n",
       " ['D', '5', '1999-06-25', ['c', 'f', 'a'], ['eee:3', 'jjj:2', 'ddd:7']],\n",
       " ['A',\n",
       "  '1',\n",
       "  '1999-08-25',\n",
       "  ['f', 'a', 'd'],\n",
       "  ['jjj:1', 'ggg:0', 'ccc:7', 'ddd:9', 'bbb:3']],\n",
       " ['E',\n",
       "  '4',\n",
       "  '1997-07-26',\n",
       "  ['c', 'd'],\n",
       "  ['jjj:6', 'ccc:0', 'aaa:1', 'hhh:9', 'iii:7', 'ggg:8']],\n",
       " ['E',\n",
       "  '6',\n",
       "  '1997-09-24',\n",
       "  ['e', 'd', 'c'],\n",
       "  ['fff:3', 'eee:6', 'iii:4', 'bbb:7', 'ddd:0', 'ccc:1']],\n",
       " ['A', '8', '1997-09-28', ['a', 'e', 'f'], ['fff:0', 'ddd:5', 'ccc:4']],\n",
       " ['E',\n",
       "  '5',\n",
       "  '1999-06-22',\n",
       "  ['c', 'a', 'g'],\n",
       "  ['ggg:6', 'hhh:3', 'ddd:9', 'ccc:0', 'jjj:7']],\n",
       " ['A',\n",
       "  '6',\n",
       "  '1999-07-29',\n",
       "  ['f', 'e'],\n",
       "  ['hhh:6', 'jjj:0', 'eee:5', 'iii:7', 'ccc:3']],\n",
       " ['C',\n",
       "  '0',\n",
       "  '1999-08-22',\n",
       "  ['f', 'c', 'a', 'g'],\n",
       "  ['eee:1', 'fff:4', 'aaa:2', 'ccc:7', 'ggg:0', 'ddd:6']],\n",
       " ['A',\n",
       "  '1',\n",
       "  '1998-04-26',\n",
       "  ['b', 'f'],\n",
       "  ['ccc:6', 'aaa:9', 'eee:5', 'ddd:0', 'bbb:3']],\n",
       " ['D',\n",
       "  '2',\n",
       "  '1998-02-24',\n",
       "  ['b', 'f'],\n",
       "  ['bbb:7', 'hhh:1', 'aaa:6', 'iii:4', 'fff:9', 'ddd:5']],\n",
       " ['E', '5', '1999-03-24', ['a', 'c'], ['fff:3', 'ccc:1', 'ggg:2', 'eee:5']],\n",
       " ['B',\n",
       "  '4',\n",
       "  '1998-03-23',\n",
       "  ['b', 'f', 'c'],\n",
       "  ['iii:7', 'ggg:3', 'ddd:0', 'jjj:8', 'hhh:5', 'ccc:1']],\n",
       " ['B',\n",
       "  '6',\n",
       "  '1999-04-21',\n",
       "  ['f', 'a', 'e'],\n",
       "  ['hhh:6', 'ccc:3', 'jjj:0', 'bbb:8', 'ddd:7']],\n",
       " ['D', '7', '1999-02-29', ['a', 'f'], ['aaa:0', 'fff:5', 'ddd:3']],\n",
       " ['B',\n",
       "  '8',\n",
       "  '1997-05-21',\n",
       "  ['c', 'a'],\n",
       "  ['ddd:5', 'jjj:2', 'iii:7', 'ccc:0', 'bbb:4']],\n",
       " ['C', '9', '1997-07-22', ['c', 'a', 'e', 'f'], ['eee:0', 'fff:2', 'hhh:6']],\n",
       " ['E', '1', '1999-09-28', ['e', 'd'], ['fff:9', 'iii:2', 'eee:0']],\n",
       " ['E', '5', '1998-01-26', ['f', 'a', 'd'], ['hhh:8', 'ggg:3', 'jjj:5']]]"
      ]
     },
     "execution_count": 43,
     "metadata": {},
     "output_type": "execute_result"
    }
   ],
   "source": [
    "data = []\n",
    "i = 0\n",
    "for elemt in file:\n",
    "\tdata.append([])\n",
    "\tfor e in elemt:\n",
    "\t\ta = e.split(',')\n",
    "\t\tif(len(a) == 1):\n",
    "\t\t\tdata[i].append(a[0])\n",
    "\t\telse:\n",
    "\t\t\tdata[i].append(a)\n",
    "\ti += 1\n",
    "\n",
    "result = {}\n",
    "\n",
    "data"
   ]
  },
  {
   "cell_type": "code",
   "execution_count": 53,
   "metadata": {},
   "outputs": [
    {
     "data": {
      "text/plain": [
       "{'jjj': 0,\n",
       " 'bbb': 0,\n",
       " 'ddd': 0,\n",
       " 'ggg': 0,\n",
       " 'hhh': 0,\n",
       " 'ccc': 0,\n",
       " 'aaa': 0,\n",
       " 'iii': 0,\n",
       " 'eee': 0,\n",
       " 'fff': 0}"
      ]
     },
     "execution_count": 53,
     "metadata": {},
     "output_type": "execute_result"
    }
   ],
   "source": [
    "for element in data:\n",
    "\tfor el in element[4]:\n",
    "\t\taux = el.split(':')\n",
    "\t\tresult[aux[0]] = 0\n",
    "\n",
    "result"
   ]
  },
  {
   "cell_type": "code",
   "execution_count": 54,
   "metadata": {},
   "outputs": [
    {
     "data": {
      "text/plain": [
       "{'jjj': 18,\n",
       " 'bbb': 16,\n",
       " 'ddd': 23,\n",
       " 'ggg': 13,\n",
       " 'hhh': 16,\n",
       " 'ccc': 23,\n",
       " 'aaa': 13,\n",
       " 'iii': 18,\n",
       " 'eee': 15,\n",
       " 'fff': 20}"
      ]
     },
     "execution_count": 54,
     "metadata": {},
     "output_type": "execute_result"
    }
   ],
   "source": [
    "for element in data:\n",
    "\tfor el in element[4]:\n",
    "\t\taux = el.split(':')\n",
    "\t\tresult[aux[0]] += 1\n",
    "        \n",
    "result"
   ]
  },
  {
   "cell_type": "code",
   "execution_count": 60,
   "metadata": {},
   "outputs": [
    {
     "name": "stdout",
     "output_type": "stream",
     "text": [
      "jjj,18\n",
      "bbb,16\n",
      "ddd,23\n",
      "ggg,13\n",
      "hhh,16\n",
      "ccc,23\n",
      "aaa,13\n",
      "iii,18\n",
      "eee,15\n",
      "fff,20\n"
     ]
    }
   ],
   "source": [
    "for e in result:\n",
    "\tprint(e + ',' + str(result[e]))"
   ]
  }
 ],
 "metadata": {
  "kernelspec": {
   "display_name": "Python 3",
   "language": "python",
   "name": "python3"
  },
  "language_info": {
   "codemirror_mode": {
    "name": "ipython",
    "version": 3
   },
   "file_extension": ".py",
   "mimetype": "text/x-python",
   "name": "python",
   "nbconvert_exporter": "python",
   "pygments_lexer": "ipython3",
   "version": "3.6.7"
  }
 },
 "nbformat": 4,
 "nbformat_minor": 2
}
